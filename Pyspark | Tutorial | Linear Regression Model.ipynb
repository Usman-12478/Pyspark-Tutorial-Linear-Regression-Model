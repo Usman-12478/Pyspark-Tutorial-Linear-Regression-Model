{
 "cells": [
  {
   "cell_type": "code",
   "execution_count": 1,
   "id": "324037ee",
   "metadata": {
    "execution": {
     "iopub.execute_input": "2024-09-23T08:00:50.936854Z",
     "iopub.status.busy": "2024-09-23T08:00:50.936330Z",
     "iopub.status.idle": "2024-09-23T08:01:42.774360Z",
     "shell.execute_reply": "2024-09-23T08:01:42.772945Z"
    },
    "papermill": {
     "duration": 51.850995,
     "end_time": "2024-09-23T08:01:42.777177",
     "exception": false,
     "start_time": "2024-09-23T08:00:50.926182",
     "status": "completed"
    },
    "tags": []
   },
   "outputs": [
    {
     "name": "stdout",
     "output_type": "stream",
     "text": [
      "Collecting pyspark\r\n",
      "  Downloading pyspark-3.5.2.tar.gz (317.3 MB)\r\n",
      "\u001b[2K     \u001b[90m━━━━━━━━━━━━━━━━━━━━━━━━━━━━━━━━━━━━━━━\u001b[0m \u001b[32m317.3/317.3 MB\u001b[0m \u001b[31m4.6 MB/s\u001b[0m eta \u001b[36m0:00:00\u001b[0m\r\n",
      "\u001b[?25h  Preparing metadata (setup.py) ... \u001b[?25l-\b \b\\\b \bdone\r\n",
      "\u001b[?25hRequirement already satisfied: py4j==0.10.9.7 in /opt/conda/lib/python3.10/site-packages (from pyspark) (0.10.9.7)\r\n",
      "Building wheels for collected packages: pyspark\r\n",
      "  Building wheel for pyspark (setup.py) ... \u001b[?25l-\b \b\\\b \b|\b \bdone\r\n",
      "\u001b[?25h  Created wheel for pyspark: filename=pyspark-3.5.2-py2.py3-none-any.whl size=317812364 sha256=9e6b183eb11f07028050dd5d3aff311b7fc8813b598ca678145c1a6f2f5edce0\r\n",
      "  Stored in directory: /root/.cache/pip/wheels/34/34/bd/03944534c44b677cd5859f248090daa9fb27b3c8f8e5f49574\r\n",
      "Successfully built pyspark\r\n",
      "Installing collected packages: pyspark\r\n",
      "Successfully installed pyspark-3.5.2\r\n"
     ]
    }
   ],
   "source": [
    "! pip install pyspark"
   ]
  },
  {
   "cell_type": "markdown",
   "id": "0c5cd99d",
   "metadata": {
    "papermill": {
     "duration": 0.014245,
     "end_time": "2024-09-23T08:01:42.805712",
     "exception": false,
     "start_time": "2024-09-23T08:01:42.791467",
     "status": "completed"
    },
    "tags": []
   },
   "source": [
    "# **Importing Necessary Libraries**"
   ]
  },
  {
   "cell_type": "code",
   "execution_count": 2,
   "id": "5e9421a3",
   "metadata": {
    "execution": {
     "iopub.execute_input": "2024-09-23T08:01:42.836332Z",
     "iopub.status.busy": "2024-09-23T08:01:42.835886Z",
     "iopub.status.idle": "2024-09-23T08:01:45.042657Z",
     "shell.execute_reply": "2024-09-23T08:01:45.041413Z"
    },
    "papermill": {
     "duration": 2.225661,
     "end_time": "2024-09-23T08:01:45.045484",
     "exception": false,
     "start_time": "2024-09-23T08:01:42.819823",
     "status": "completed"
    },
    "tags": []
   },
   "outputs": [],
   "source": [
    "from pyspark.sql import SparkSession\n",
    "from pyspark import SparkContext, SparkConf\n",
    "import matplotlib.pyplot as plt\n",
    "import seaborn as sns\n",
    "import pandas as pd\n"
   ]
  },
  {
   "cell_type": "markdown",
   "id": "a2c94775",
   "metadata": {
    "papermill": {
     "duration": 0.014168,
     "end_time": "2024-09-23T08:01:45.074674",
     "exception": false,
     "start_time": "2024-09-23T08:01:45.060506",
     "status": "completed"
    },
    "tags": []
   },
   "source": [
    "# **Creating The Session**"
   ]
  },
  {
   "cell_type": "code",
   "execution_count": 3,
   "id": "9d6f1ed5",
   "metadata": {
    "execution": {
     "iopub.execute_input": "2024-09-23T08:01:45.105613Z",
     "iopub.status.busy": "2024-09-23T08:01:45.105045Z",
     "iopub.status.idle": "2024-09-23T08:01:52.111915Z",
     "shell.execute_reply": "2024-09-23T08:01:52.110346Z"
    },
    "papermill": {
     "duration": 7.025722,
     "end_time": "2024-09-23T08:01:52.114824",
     "exception": false,
     "start_time": "2024-09-23T08:01:45.089102",
     "status": "completed"
    },
    "tags": []
   },
   "outputs": [
    {
     "name": "stderr",
     "output_type": "stream",
     "text": [
      "Setting default log level to \"WARN\".\n",
      "To adjust logging level use sc.setLogLevel(newLevel). For SparkR, use setLogLevel(newLevel).\n",
      "24/09/23 08:01:48 WARN NativeCodeLoader: Unable to load native-hadoop library for your platform... using builtin-java classes where applicable\n"
     ]
    },
    {
     "data": {
      "text/html": [
       "\n",
       "            <div>\n",
       "                <p><b>SparkSession - in-memory</b></p>\n",
       "                \n",
       "        <div>\n",
       "            <p><b>SparkContext</b></p>\n",
       "\n",
       "            <p><a href=\"http://b58e26ace91f:4040\">Spark UI</a></p>\n",
       "\n",
       "            <dl>\n",
       "              <dt>Version</dt>\n",
       "                <dd><code>v3.5.2</code></dd>\n",
       "              <dt>Master</dt>\n",
       "                <dd><code>local[*]</code></dd>\n",
       "              <dt>AppName</dt>\n",
       "                <dd><code>Predict Salaries</code></dd>\n",
       "            </dl>\n",
       "        </div>\n",
       "        \n",
       "            </div>\n",
       "        "
      ],
      "text/plain": [
       "<pyspark.sql.session.SparkSession at 0x7fef26c4ddb0>"
      ]
     },
     "execution_count": 3,
     "metadata": {},
     "output_type": "execute_result"
    }
   ],
   "source": [
    "spark = SparkSession.builder.appName('Predict Salaries').getOrCreate()\n",
    "\n",
    "spark"
   ]
  },
  {
   "cell_type": "markdown",
   "id": "3dc1d63a",
   "metadata": {
    "papermill": {
     "duration": 0.021211,
     "end_time": "2024-09-23T08:01:52.152994",
     "exception": false,
     "start_time": "2024-09-23T08:01:52.131783",
     "status": "completed"
    },
    "tags": []
   },
   "source": [
    "## **Loading The Dataset**"
   ]
  },
  {
   "cell_type": "code",
   "execution_count": 4,
   "id": "5ac4349d",
   "metadata": {
    "execution": {
     "iopub.execute_input": "2024-09-23T08:01:52.193985Z",
     "iopub.status.busy": "2024-09-23T08:01:52.192479Z",
     "iopub.status.idle": "2024-09-23T08:01:58.690006Z",
     "shell.execute_reply": "2024-09-23T08:01:58.688780Z"
    },
    "papermill": {
     "duration": 6.520434,
     "end_time": "2024-09-23T08:01:58.692572",
     "exception": false,
     "start_time": "2024-09-23T08:01:52.172138",
     "status": "completed"
    },
    "tags": []
   },
   "outputs": [
    {
     "name": "stderr",
     "output_type": "stream",
     "text": [
      "                                                                                \r"
     ]
    }
   ],
   "source": [
    "training = spark.read.csv('/kaggle/input/pyspark-predict-salaries/Pyspark _ Predict Salary - Sheet1.csv', inferSchema = True, header = True)"
   ]
  },
  {
   "cell_type": "code",
   "execution_count": 5,
   "id": "9cbbafc7",
   "metadata": {
    "execution": {
     "iopub.execute_input": "2024-09-23T08:01:58.724474Z",
     "iopub.status.busy": "2024-09-23T08:01:58.723324Z",
     "iopub.status.idle": "2024-09-23T08:01:59.151965Z",
     "shell.execute_reply": "2024-09-23T08:01:59.150688Z"
    },
    "papermill": {
     "duration": 0.44749,
     "end_time": "2024-09-23T08:01:59.154700",
     "exception": false,
     "start_time": "2024-09-23T08:01:58.707210",
     "status": "completed"
    },
    "tags": []
   },
   "outputs": [
    {
     "name": "stdout",
     "output_type": "stream",
     "text": [
      "+---------+---+----------+------+\n",
      "|     Name|Age|Experience|Salary|\n",
      "+---------+---+----------+------+\n",
      "|     Adam| 32|         8| 17000|\n",
      "|     John| 31|         7| 16000|\n",
      "|    Chris| 34|        10| 30000|\n",
      "|  Charles| 21|         3| 12000|\n",
      "|     Paul| 24|         5| 15000|\n",
      "|    David| 25|         5| 15000|\n",
      "|  Indiana| 43|        12| 32000|\n",
      "|    Linda| 32|         8| 17000|\n",
      "|Elizabwth| 20|         2| 11000|\n",
      "+---------+---+----------+------+\n",
      "\n"
     ]
    }
   ],
   "source": [
    "training.show()"
   ]
  },
  {
   "cell_type": "markdown",
   "id": "9104b965",
   "metadata": {
    "papermill": {
     "duration": 0.01459,
     "end_time": "2024-09-23T08:01:59.184513",
     "exception": false,
     "start_time": "2024-09-23T08:01:59.169923",
     "status": "completed"
    },
    "tags": []
   },
   "source": [
    "# **Printing Schema**"
   ]
  },
  {
   "cell_type": "code",
   "execution_count": 6,
   "id": "49d0615d",
   "metadata": {
    "execution": {
     "iopub.execute_input": "2024-09-23T08:01:59.217220Z",
     "iopub.status.busy": "2024-09-23T08:01:59.216745Z",
     "iopub.status.idle": "2024-09-23T08:01:59.226092Z",
     "shell.execute_reply": "2024-09-23T08:01:59.224865Z"
    },
    "papermill": {
     "duration": 0.028863,
     "end_time": "2024-09-23T08:01:59.228672",
     "exception": false,
     "start_time": "2024-09-23T08:01:59.199809",
     "status": "completed"
    },
    "tags": []
   },
   "outputs": [
    {
     "name": "stdout",
     "output_type": "stream",
     "text": [
      "root\n",
      " |-- Name: string (nullable = true)\n",
      " |-- Age: integer (nullable = true)\n",
      " |-- Experience: integer (nullable = true)\n",
      " |-- Salary: integer (nullable = true)\n",
      "\n"
     ]
    }
   ],
   "source": [
    "training.printSchema()"
   ]
  },
  {
   "cell_type": "markdown",
   "id": "ce4408bb",
   "metadata": {
    "papermill": {
     "duration": 0.015531,
     "end_time": "2024-09-23T08:01:59.258987",
     "exception": false,
     "start_time": "2024-09-23T08:01:59.243456",
     "status": "completed"
    },
    "tags": []
   },
   "source": [
    "# **Getting The Columns Names**"
   ]
  },
  {
   "cell_type": "code",
   "execution_count": 7,
   "id": "5b41778a",
   "metadata": {
    "execution": {
     "iopub.execute_input": "2024-09-23T08:01:59.291830Z",
     "iopub.status.busy": "2024-09-23T08:01:59.291418Z",
     "iopub.status.idle": "2024-09-23T08:01:59.328631Z",
     "shell.execute_reply": "2024-09-23T08:01:59.327517Z"
    },
    "papermill": {
     "duration": 0.056465,
     "end_time": "2024-09-23T08:01:59.331541",
     "exception": false,
     "start_time": "2024-09-23T08:01:59.275076",
     "status": "completed"
    },
    "tags": []
   },
   "outputs": [
    {
     "data": {
      "text/plain": [
       "['Name', 'Age', 'Experience', 'Salary']"
      ]
     },
     "execution_count": 7,
     "metadata": {},
     "output_type": "execute_result"
    }
   ],
   "source": [
    "training.columns"
   ]
  },
  {
   "cell_type": "markdown",
   "id": "8cdf619e",
   "metadata": {
    "papermill": {
     "duration": 0.015286,
     "end_time": "2024-09-23T08:01:59.362524",
     "exception": false,
     "start_time": "2024-09-23T08:01:59.347238",
     "status": "completed"
    },
    "tags": []
   },
   "source": [
    "# **Importing Vector Assembler**"
   ]
  },
  {
   "cell_type": "markdown",
   "id": "7d89ea53",
   "metadata": {
    "papermill": {
     "duration": 0.014678,
     "end_time": "2024-09-23T08:01:59.392231",
     "exception": false,
     "start_time": "2024-09-23T08:01:59.377553",
     "status": "completed"
    },
    "tags": []
   },
   "source": [
    "It is a kind of **tool** that helps us to **combine multiple features** in only **one vector**"
   ]
  },
  {
   "cell_type": "code",
   "execution_count": 8,
   "id": "433c975e",
   "metadata": {
    "execution": {
     "iopub.execute_input": "2024-09-23T08:01:59.424930Z",
     "iopub.status.busy": "2024-09-23T08:01:59.424416Z",
     "iopub.status.idle": "2024-09-23T08:01:59.598156Z",
     "shell.execute_reply": "2024-09-23T08:01:59.597097Z"
    },
    "papermill": {
     "duration": 0.193339,
     "end_time": "2024-09-23T08:01:59.600703",
     "exception": false,
     "start_time": "2024-09-23T08:01:59.407364",
     "status": "completed"
    },
    "tags": []
   },
   "outputs": [],
   "source": [
    "from pyspark.ml.feature import VectorAssembler as va"
   ]
  },
  {
   "cell_type": "markdown",
   "id": "9f212289",
   "metadata": {
    "papermill": {
     "duration": 0.014547,
     "end_time": "2024-09-23T08:01:59.630646",
     "exception": false,
     "start_time": "2024-09-23T08:01:59.616099",
     "status": "completed"
    },
    "tags": []
   },
   "source": [
    "In the **Down Code** We are **combining The Age and the Experience Columns In only One Vector which called Independent Feature** and that **Independent Feature will be use for training our Model**"
   ]
  },
  {
   "cell_type": "code",
   "execution_count": 9,
   "id": "e2b8804a",
   "metadata": {
    "execution": {
     "iopub.execute_input": "2024-09-23T08:01:59.662306Z",
     "iopub.status.busy": "2024-09-23T08:01:59.661814Z",
     "iopub.status.idle": "2024-09-23T08:01:59.691453Z",
     "shell.execute_reply": "2024-09-23T08:01:59.690067Z"
    },
    "papermill": {
     "duration": 0.048757,
     "end_time": "2024-09-23T08:01:59.694318",
     "exception": false,
     "start_time": "2024-09-23T08:01:59.645561",
     "status": "completed"
    },
    "tags": []
   },
   "outputs": [],
   "source": [
    "feature_assembler = va(inputCols = ['Age', 'Experience'],outputCol = 'Independent Features')\n"
   ]
  },
  {
   "cell_type": "code",
   "execution_count": 10,
   "id": "a9c059c1",
   "metadata": {
    "execution": {
     "iopub.execute_input": "2024-09-23T08:01:59.726519Z",
     "iopub.status.busy": "2024-09-23T08:01:59.726098Z",
     "iopub.status.idle": "2024-09-23T08:01:59.905698Z",
     "shell.execute_reply": "2024-09-23T08:01:59.904427Z"
    },
    "papermill": {
     "duration": 0.19875,
     "end_time": "2024-09-23T08:01:59.908502",
     "exception": false,
     "start_time": "2024-09-23T08:01:59.709752",
     "status": "completed"
    },
    "tags": []
   },
   "outputs": [],
   "source": [
    "output = feature_assembler.transform(training)"
   ]
  },
  {
   "cell_type": "markdown",
   "id": "545a7efa",
   "metadata": {
    "papermill": {
     "duration": 0.015799,
     "end_time": "2024-09-23T08:01:59.939879",
     "exception": false,
     "start_time": "2024-09-23T08:01:59.924080",
     "status": "completed"
    },
    "tags": []
   },
   "source": [
    "In the **Above Line of Code** **transform method** creates a **New DataFrame with the Additional Column** Called **Independent Feature** that **Combined Feature Vectors**"
   ]
  },
  {
   "cell_type": "code",
   "execution_count": 11,
   "id": "1219e1b3",
   "metadata": {
    "execution": {
     "iopub.execute_input": "2024-09-23T08:01:59.972845Z",
     "iopub.status.busy": "2024-09-23T08:01:59.972413Z",
     "iopub.status.idle": "2024-09-23T08:02:00.685762Z",
     "shell.execute_reply": "2024-09-23T08:02:00.684529Z"
    },
    "papermill": {
     "duration": 0.735841,
     "end_time": "2024-09-23T08:02:00.690713",
     "exception": false,
     "start_time": "2024-09-23T08:01:59.954872",
     "status": "completed"
    },
    "tags": []
   },
   "outputs": [
    {
     "name": "stdout",
     "output_type": "stream",
     "text": [
      "+---------+---+----------+------+--------------------+\n",
      "|     Name|Age|Experience|Salary|Independent Features|\n",
      "+---------+---+----------+------+--------------------+\n",
      "|     Adam| 32|         8| 17000|          [32.0,8.0]|\n",
      "|     John| 31|         7| 16000|          [31.0,7.0]|\n",
      "|    Chris| 34|        10| 30000|         [34.0,10.0]|\n",
      "|  Charles| 21|         3| 12000|          [21.0,3.0]|\n",
      "|     Paul| 24|         5| 15000|          [24.0,5.0]|\n",
      "|    David| 25|         5| 15000|          [25.0,5.0]|\n",
      "|  Indiana| 43|        12| 32000|         [43.0,12.0]|\n",
      "|    Linda| 32|         8| 17000|          [32.0,8.0]|\n",
      "|Elizabwth| 20|         2| 11000|          [20.0,2.0]|\n",
      "+---------+---+----------+------+--------------------+\n",
      "\n"
     ]
    }
   ],
   "source": [
    "output.show()"
   ]
  },
  {
   "cell_type": "code",
   "execution_count": 12,
   "id": "6b1719b6",
   "metadata": {
    "execution": {
     "iopub.execute_input": "2024-09-23T08:02:00.741733Z",
     "iopub.status.busy": "2024-09-23T08:02:00.741228Z",
     "iopub.status.idle": "2024-09-23T08:02:00.755232Z",
     "shell.execute_reply": "2024-09-23T08:02:00.754150Z"
    },
    "papermill": {
     "duration": 0.041726,
     "end_time": "2024-09-23T08:02:00.758334",
     "exception": false,
     "start_time": "2024-09-23T08:02:00.716608",
     "status": "completed"
    },
    "tags": []
   },
   "outputs": [
    {
     "data": {
      "text/plain": [
       "['Name', 'Age', 'Experience', 'Salary', 'Independent Features']"
      ]
     },
     "execution_count": 12,
     "metadata": {},
     "output_type": "execute_result"
    }
   ],
   "source": [
    "output.columns"
   ]
  },
  {
   "cell_type": "markdown",
   "id": "74aebf1e",
   "metadata": {
    "papermill": {
     "duration": 0.014714,
     "end_time": "2024-09-23T08:02:00.789293",
     "exception": false,
     "start_time": "2024-09-23T08:02:00.774579",
     "status": "completed"
    },
    "tags": []
   },
   "source": [
    "# **Finalizing The Features For Training Our Model**"
   ]
  },
  {
   "cell_type": "code",
   "execution_count": 13,
   "id": "90b9f49c",
   "metadata": {
    "execution": {
     "iopub.execute_input": "2024-09-23T08:02:00.823241Z",
     "iopub.status.busy": "2024-09-23T08:02:00.822112Z",
     "iopub.status.idle": "2024-09-23T08:02:00.864714Z",
     "shell.execute_reply": "2024-09-23T08:02:00.863460Z"
    },
    "papermill": {
     "duration": 0.06393,
     "end_time": "2024-09-23T08:02:00.868239",
     "exception": false,
     "start_time": "2024-09-23T08:02:00.804309",
     "status": "completed"
    },
    "tags": []
   },
   "outputs": [],
   "source": [
    "finalized_feature = output.select('Independent Features', 'Salary')"
   ]
  },
  {
   "cell_type": "code",
   "execution_count": 14,
   "id": "d2a73397",
   "metadata": {
    "execution": {
     "iopub.execute_input": "2024-09-23T08:02:00.909139Z",
     "iopub.status.busy": "2024-09-23T08:02:00.908698Z",
     "iopub.status.idle": "2024-09-23T08:02:01.205075Z",
     "shell.execute_reply": "2024-09-23T08:02:01.203298Z"
    },
    "papermill": {
     "duration": 0.316609,
     "end_time": "2024-09-23T08:02:01.208625",
     "exception": false,
     "start_time": "2024-09-23T08:02:00.892016",
     "status": "completed"
    },
    "tags": []
   },
   "outputs": [
    {
     "name": "stdout",
     "output_type": "stream",
     "text": [
      "+--------------------+------+\n",
      "|Independent Features|Salary|\n",
      "+--------------------+------+\n",
      "|          [32.0,8.0]| 17000|\n",
      "|          [31.0,7.0]| 16000|\n",
      "|         [34.0,10.0]| 30000|\n",
      "|          [21.0,3.0]| 12000|\n",
      "|          [24.0,5.0]| 15000|\n",
      "|          [25.0,5.0]| 15000|\n",
      "|         [43.0,12.0]| 32000|\n",
      "|          [32.0,8.0]| 17000|\n",
      "|          [20.0,2.0]| 11000|\n",
      "+--------------------+------+\n",
      "\n"
     ]
    }
   ],
   "source": [
    "finalized_feature.show()"
   ]
  },
  {
   "cell_type": "markdown",
   "id": "0c11c8e7",
   "metadata": {
    "papermill": {
     "duration": 0.023427,
     "end_time": "2024-09-23T08:02:01.256531",
     "exception": false,
     "start_time": "2024-09-23T08:02:01.233104",
     "status": "completed"
    },
    "tags": []
   },
   "source": [
    "In the Above Output, **Age and Experience Are Combine and These are the Independent Features** and The **Salary Column Is A Dependent Feature!**"
   ]
  },
  {
   "cell_type": "markdown",
   "id": "f10fd830",
   "metadata": {
    "papermill": {
     "duration": 0.022991,
     "end_time": "2024-09-23T08:02:01.304037",
     "exception": false,
     "start_time": "2024-09-23T08:02:01.281046",
     "status": "completed"
    },
    "tags": []
   },
   "source": [
    "# **Importing Linear Regression Algorithm**"
   ]
  },
  {
   "cell_type": "code",
   "execution_count": 15,
   "id": "4a27e526",
   "metadata": {
    "execution": {
     "iopub.execute_input": "2024-09-23T08:02:01.339631Z",
     "iopub.status.busy": "2024-09-23T08:02:01.339095Z",
     "iopub.status.idle": "2024-09-23T08:02:01.345308Z",
     "shell.execute_reply": "2024-09-23T08:02:01.344109Z"
    },
    "papermill": {
     "duration": 0.025687,
     "end_time": "2024-09-23T08:02:01.348127",
     "exception": false,
     "start_time": "2024-09-23T08:02:01.322440",
     "status": "completed"
    },
    "tags": []
   },
   "outputs": [],
   "source": [
    "from pyspark.ml.regression import LinearRegression as lr"
   ]
  },
  {
   "cell_type": "markdown",
   "id": "63333001",
   "metadata": {
    "papermill": {
     "duration": 0.014914,
     "end_time": "2024-09-23T08:02:01.378203",
     "exception": false,
     "start_time": "2024-09-23T08:02:01.363289",
     "status": "completed"
    },
    "tags": []
   },
   "source": [
    "# **Splitng The Data Into Training And Testing**"
   ]
  },
  {
   "cell_type": "code",
   "execution_count": 16,
   "id": "35c218ff",
   "metadata": {
    "execution": {
     "iopub.execute_input": "2024-09-23T08:02:01.410868Z",
     "iopub.status.busy": "2024-09-23T08:02:01.410304Z",
     "iopub.status.idle": "2024-09-23T08:02:03.576226Z",
     "shell.execute_reply": "2024-09-23T08:02:03.574872Z"
    },
    "papermill": {
     "duration": 2.187348,
     "end_time": "2024-09-23T08:02:03.580656",
     "exception": false,
     "start_time": "2024-09-23T08:02:01.393308",
     "status": "completed"
    },
    "tags": []
   },
   "outputs": [
    {
     "name": "stderr",
     "output_type": "stream",
     "text": [
      "24/09/23 08:02:02 WARN InstanceBuilder: Failed to load implementation from:dev.ludovic.netlib.blas.JNIBLAS\n",
      "24/09/23 08:02:02 WARN InstanceBuilder: Failed to load implementation from:dev.ludovic.netlib.lapack.JNILAPACK\n"
     ]
    }
   ],
   "source": [
    "train_data, test_data = finalized_feature.randomSplit([0.75, 0.25])\n",
    "\n",
    "regressor = lr(featuresCol = 'Independent Features', labelCol = 'Salary', regParam = 0.01)\n",
    "\n",
    "regressor = regressor.fit(train_data)"
   ]
  },
  {
   "cell_type": "markdown",
   "id": "1703a1e9",
   "metadata": {
    "papermill": {
     "duration": 0.024345,
     "end_time": "2024-09-23T08:02:03.631535",
     "exception": false,
     "start_time": "2024-09-23T08:02:03.607190",
     "status": "completed"
    },
    "tags": []
   },
   "source": [
    "* In the **Above Code** We Are **splitting our data into train_data and the test_data**.\n",
    "* **finalized_feature** contains our **feature** and **randomsplit is use for splitting the data**. Into **two part with the specific amount**.\n",
    "* In the **regressor** We are giving our **feature Column and the Label Column** which calleds **training data and the result**.\n",
    "* Now **regressor.fit** is used for **fitting the data into our model**."
   ]
  },
  {
   "cell_type": "code",
   "execution_count": 17,
   "id": "13ddf54c",
   "metadata": {
    "execution": {
     "iopub.execute_input": "2024-09-23T08:02:03.684483Z",
     "iopub.status.busy": "2024-09-23T08:02:03.683915Z",
     "iopub.status.idle": "2024-09-23T08:02:03.735256Z",
     "shell.execute_reply": "2024-09-23T08:02:03.733819Z"
    },
    "papermill": {
     "duration": 0.08104,
     "end_time": "2024-09-23T08:02:03.738711",
     "exception": false,
     "start_time": "2024-09-23T08:02:03.657671",
     "status": "completed"
    },
    "tags": []
   },
   "outputs": [
    {
     "data": {
      "text/plain": [
       "DenseVector([-880.4849, 4418.4044])"
      ]
     },
     "execution_count": 17,
     "metadata": {},
     "output_type": "execute_result"
    }
   ],
   "source": [
    "regressor.coefficients"
   ]
  },
  {
   "cell_type": "code",
   "execution_count": 18,
   "id": "ff5bdb9e",
   "metadata": {
    "execution": {
     "iopub.execute_input": "2024-09-23T08:02:03.787880Z",
     "iopub.status.busy": "2024-09-23T08:02:03.787382Z",
     "iopub.status.idle": "2024-09-23T08:02:03.795064Z",
     "shell.execute_reply": "2024-09-23T08:02:03.794043Z"
    },
    "papermill": {
     "duration": 0.035483,
     "end_time": "2024-09-23T08:02:03.797853",
     "exception": false,
     "start_time": "2024-09-23T08:02:03.762370",
     "status": "completed"
    },
    "tags": []
   },
   "outputs": [
    {
     "data": {
      "text/plain": [
       "14425.945748850972"
      ]
     },
     "execution_count": 18,
     "metadata": {},
     "output_type": "execute_result"
    }
   ],
   "source": [
    "regressor.intercept"
   ]
  },
  {
   "cell_type": "markdown",
   "id": "b4f3144d",
   "metadata": {
    "papermill": {
     "duration": 0.022956,
     "end_time": "2024-09-23T08:02:03.844458",
     "exception": false,
     "start_time": "2024-09-23T08:02:03.821502",
     "status": "completed"
    },
    "tags": []
   },
   "source": [
    "# **Evaluating The Model Performance**"
   ]
  },
  {
   "cell_type": "code",
   "execution_count": 19,
   "id": "265be322",
   "metadata": {
    "execution": {
     "iopub.execute_input": "2024-09-23T08:02:03.895680Z",
     "iopub.status.busy": "2024-09-23T08:02:03.894832Z",
     "iopub.status.idle": "2024-09-23T08:02:04.490216Z",
     "shell.execute_reply": "2024-09-23T08:02:04.488968Z"
    },
    "papermill": {
     "duration": 0.624325,
     "end_time": "2024-09-23T08:02:04.492983",
     "exception": false,
     "start_time": "2024-09-23T08:02:03.868658",
     "status": "completed"
    },
    "tags": []
   },
   "outputs": [
    {
     "name": "stdout",
     "output_type": "stream",
     "text": [
      "+--------------------+------+------------------+\n",
      "|Independent Features|Salary|        prediction|\n",
      "+--------------------+------+------------------+\n",
      "|          [20.0,2.0]| 11000| 5653.055591073111|\n",
      "|          [32.0,8.0]| 17000|21597.662420220582|\n",
      "+--------------------+------+------------------+\n",
      "\n"
     ]
    }
   ],
   "source": [
    "pred_result = regressor.evaluate(test_data)\n",
    "\n",
    "pred_result.predictions.show()"
   ]
  },
  {
   "cell_type": "markdown",
   "id": "e204cb84",
   "metadata": {
    "papermill": {
     "duration": 0.01526,
     "end_time": "2024-09-23T08:02:04.523716",
     "exception": false,
     "start_time": "2024-09-23T08:02:04.508456",
     "status": "completed"
    },
    "tags": []
   },
   "source": [
    "# **Getting MAE and MSE**"
   ]
  },
  {
   "cell_type": "code",
   "execution_count": 20,
   "id": "2adc09f7",
   "metadata": {
    "execution": {
     "iopub.execute_input": "2024-09-23T08:02:04.558685Z",
     "iopub.status.busy": "2024-09-23T08:02:04.558243Z",
     "iopub.status.idle": "2024-09-23T08:02:04.564551Z",
     "shell.execute_reply": "2024-09-23T08:02:04.563395Z"
    },
    "papermill": {
     "duration": 0.027685,
     "end_time": "2024-09-23T08:02:04.567333",
     "exception": false,
     "start_time": "2024-09-23T08:02:04.539648",
     "status": "completed"
    },
    "tags": []
   },
   "outputs": [
    {
     "name": "stdout",
     "output_type": "stream",
     "text": [
      "The (MSE) Mean Squared Error is:  4972.303414573736\n"
     ]
    }
   ],
   "source": [
    "print(\"The (MSE) Mean Squared Error is: \",pred_result.meanAbsoluteError)"
   ]
  },
  {
   "cell_type": "code",
   "execution_count": 21,
   "id": "43076900",
   "metadata": {
    "execution": {
     "iopub.execute_input": "2024-09-23T08:02:04.600605Z",
     "iopub.status.busy": "2024-09-23T08:02:04.600186Z",
     "iopub.status.idle": "2024-09-23T08:02:04.607321Z",
     "shell.execute_reply": "2024-09-23T08:02:04.606007Z"
    },
    "papermill": {
     "duration": 0.026777,
     "end_time": "2024-09-23T08:02:04.609840",
     "exception": false,
     "start_time": "2024-09-23T08:02:04.583063",
     "status": "completed"
    },
    "tags": []
   },
   "outputs": [
    {
     "name": "stdout",
     "output_type": "stream",
     "text": [
      "The (MAE) Mean Absolute Error is: 24864157.121231552\n"
     ]
    }
   ],
   "source": [
    "print(\"The (MAE) Mean Absolute Error is:\", pred_result.meanSquaredError)"
   ]
  },
  {
   "cell_type": "code",
   "execution_count": 22,
   "id": "008d5f0e",
   "metadata": {
    "execution": {
     "iopub.execute_input": "2024-09-23T08:02:04.643109Z",
     "iopub.status.busy": "2024-09-23T08:02:04.642659Z",
     "iopub.status.idle": "2024-09-23T08:02:04.664653Z",
     "shell.execute_reply": "2024-09-23T08:02:04.663362Z"
    },
    "papermill": {
     "duration": 0.042171,
     "end_time": "2024-09-23T08:02:04.667522",
     "exception": false,
     "start_time": "2024-09-23T08:02:04.625351",
     "status": "completed"
    },
    "tags": []
   },
   "outputs": [
    {
     "name": "stdout",
     "output_type": "stream",
     "text": [
      "  Metric         Value\n",
      "0    MSE  2.486416e+07\n",
      "1    MAE  4.972303e+03\n"
     ]
    }
   ],
   "source": [
    "import pandas as pd\n",
    "\n",
    "data = {\"Metric\": [\"MSE\", \"MAE\"], \"Value\": [pred_result.meanSquaredError, pred_result.meanAbsoluteError]}\n",
    "df = pd.DataFrame(data)\n",
    "\n",
    "print(df)"
   ]
  },
  {
   "cell_type": "code",
   "execution_count": null,
   "id": "47d8ee8a",
   "metadata": {
    "papermill": {
     "duration": 0.015829,
     "end_time": "2024-09-23T08:02:04.699324",
     "exception": false,
     "start_time": "2024-09-23T08:02:04.683495",
     "status": "completed"
    },
    "tags": []
   },
   "outputs": [],
   "source": []
  }
 ],
 "metadata": {
  "kaggle": {
   "accelerator": "none",
   "dataSources": [
    {
     "datasetId": 5578806,
     "sourceId": 9224507,
     "sourceType": "datasetVersion"
    }
   ],
   "dockerImageVersionId": 30761,
   "isGpuEnabled": false,
   "isInternetEnabled": true,
   "language": "python",
   "sourceType": "notebook"
  },
  "kernelspec": {
   "display_name": "Python 3",
   "language": "python",
   "name": "python3"
  },
  "language_info": {
   "codemirror_mode": {
    "name": "ipython",
    "version": 3
   },
   "file_extension": ".py",
   "mimetype": "text/x-python",
   "name": "python",
   "nbconvert_exporter": "python",
   "pygments_lexer": "ipython3",
   "version": "3.10.14"
  },
  "papermill": {
   "default_parameters": {},
   "duration": 79.35597,
   "end_time": "2024-09-23T08:02:07.339164",
   "environment_variables": {},
   "exception": null,
   "input_path": "__notebook__.ipynb",
   "output_path": "__notebook__.ipynb",
   "parameters": {},
   "start_time": "2024-09-23T08:00:47.983194",
   "version": "2.6.0"
  }
 },
 "nbformat": 4,
 "nbformat_minor": 5
}
